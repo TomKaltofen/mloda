{
 "cells": [
  {
   "cell_type": "markdown",
   "metadata": {},
   "source": [
    "# Data, Feature, FeatureSets and FeatureGroups in mloda"
   ]
  },
  {
   "cell_type": "markdown",
   "metadata": {},
   "source": [
    "mloda focuses on the processes around data. This means we need to abstract different parts of what is usually summed up in the term \"data\" into distinct objects. \n",
    "\n",
    "These key objects are:\n",
    "\n",
    "- Data\n",
    "- Feature\n",
    "- FeatureGroup\n",
    "- FeatureSet\n",
    "\n",
    "This notebook will explain the relations shown in the graph below."
   ]
  },
  {
   "cell_type": "code",
   "execution_count": 11,
   "metadata": {},
   "outputs": [
    {
     "data": {
      "text/html": [
       "<svg id=\"mermaid-svg\" width=\"100%\" xmlns=\"http://www.w3.org/2000/svg\" class=\"flowchart\" style=\"max-width: 1155.078125px;\" viewBox=\"0 0 1155.078125 140\" role=\"graphics-document document\" aria-roledescription=\"flowchart-v2\" xmlns:xlink=\"http://www.w3.org/1999/xlink\"><style xmlns=\"http://www.w3.org/1999/xhtml\">@import url(\"https://cdnjs.cloudflare.com/ajax/libs/font-awesome/6.7.1/css/all.min.css\");</style><style>#mermaid-svg{font-family:\"trebuchet ms\",verdana,arial,sans-serif;font-size:16px;fill:#333;}#mermaid-svg .error-icon{fill:#552222;}#mermaid-svg .error-text{fill:#552222;stroke:#552222;}#mermaid-svg .edge-thickness-normal{stroke-width:1px;}#mermaid-svg .edge-thickness-thick{stroke-width:3.5px;}#mermaid-svg .edge-pattern-solid{stroke-dasharray:0;}#mermaid-svg .edge-thickness-invisible{stroke-width:0;fill:none;}#mermaid-svg .edge-pattern-dashed{stroke-dasharray:3;}#mermaid-svg .edge-pattern-dotted{stroke-dasharray:2;}#mermaid-svg .marker{fill:#333333;stroke:#333333;}#mermaid-svg .marker.cross{stroke:#333333;}#mermaid-svg svg{font-family:\"trebuchet ms\",verdana,arial,sans-serif;font-size:16px;}#mermaid-svg p{margin:0;}#mermaid-svg .label{font-family:\"trebuchet ms\",verdana,arial,sans-serif;color:#333;}#mermaid-svg .cluster-label text{fill:#333;}#mermaid-svg .cluster-label span{color:#333;}#mermaid-svg .cluster-label span p{background-color:transparent;}#mermaid-svg .label text,#mermaid-svg span{fill:#333;color:#333;}#mermaid-svg .node rect,#mermaid-svg .node circle,#mermaid-svg .node ellipse,#mermaid-svg .node polygon,#mermaid-svg .node path{fill:#ECECFF;stroke:#9370DB;stroke-width:1px;}#mermaid-svg .rough-node .label text,#mermaid-svg .node .label text,#mermaid-svg .image-shape .label,#mermaid-svg .icon-shape .label{text-anchor:middle;}#mermaid-svg .node .katex path{fill:#000;stroke:#000;stroke-width:1px;}#mermaid-svg .rough-node .label,#mermaid-svg .node .label,#mermaid-svg .image-shape .label,#mermaid-svg .icon-shape .label{text-align:center;}#mermaid-svg .node.clickable{cursor:pointer;}#mermaid-svg .root .anchor path{fill:#333333!important;stroke-width:0;stroke:#333333;}#mermaid-svg .arrowheadPath{fill:#333333;}#mermaid-svg .edgePath .path{stroke:#333333;stroke-width:2.0px;}#mermaid-svg .flowchart-link{stroke:#333333;fill:none;}#mermaid-svg .edgeLabel{background-color:rgba(232,232,232, 0.8);text-align:center;}#mermaid-svg .edgeLabel p{background-color:rgba(232,232,232, 0.8);}#mermaid-svg .edgeLabel rect{opacity:0.5;background-color:rgba(232,232,232, 0.8);fill:rgba(232,232,232, 0.8);}#mermaid-svg .labelBkg{background-color:rgba(232, 232, 232, 0.5);}#mermaid-svg .cluster rect{fill:#ffffde;stroke:#aaaa33;stroke-width:1px;}#mermaid-svg .cluster text{fill:#333;}#mermaid-svg .cluster span{color:#333;}#mermaid-svg div.mermaidTooltip{position:absolute;text-align:center;max-width:200px;padding:2px;font-family:\"trebuchet ms\",verdana,arial,sans-serif;font-size:12px;background:hsl(80, 100%, 96.2745098039%);border:1px solid #aaaa33;border-radius:2px;pointer-events:none;z-index:100;}#mermaid-svg .flowchartTitleText{text-anchor:middle;font-size:18px;fill:#333;}#mermaid-svg rect.text{fill:none;stroke-width:0;}#mermaid-svg .icon-shape,#mermaid-svg .image-shape{background-color:rgba(232,232,232, 0.8);text-align:center;}#mermaid-svg .icon-shape p,#mermaid-svg .image-shape p{background-color:rgba(232,232,232, 0.8);padding:2px;}#mermaid-svg .icon-shape rect,#mermaid-svg .image-shape rect{opacity:0.5;background-color:rgba(232,232,232, 0.8);fill:rgba(232,232,232, 0.8);}#mermaid-svg :root{--mermaid-font-family:\"trebuchet ms\",verdana,arial,sans-serif;}</style><g><marker id=\"mermaid-svg_flowchart-v2-pointEnd\" class=\"marker flowchart-v2\" viewBox=\"0 0 10 10\" refX=\"5\" refY=\"5\" markerUnits=\"userSpaceOnUse\" markerWidth=\"8\" markerHeight=\"8\" orient=\"auto\"><path d=\"M 0 0 L 10 5 L 0 10 z\" class=\"arrowMarkerPath\" style=\"stroke-width: 1; stroke-dasharray: 1, 0;\"/></marker><marker id=\"mermaid-svg_flowchart-v2-pointStart\" class=\"marker flowchart-v2\" viewBox=\"0 0 10 10\" refX=\"4.5\" refY=\"5\" markerUnits=\"userSpaceOnUse\" markerWidth=\"8\" markerHeight=\"8\" orient=\"auto\"><path d=\"M 0 5 L 10 10 L 10 0 z\" class=\"arrowMarkerPath\" style=\"stroke-width: 1; stroke-dasharray: 1, 0;\"/></marker><marker id=\"mermaid-svg_flowchart-v2-circleEnd\" class=\"marker flowchart-v2\" viewBox=\"0 0 10 10\" refX=\"11\" refY=\"5\" markerUnits=\"userSpaceOnUse\" markerWidth=\"11\" markerHeight=\"11\" orient=\"auto\"><circle cx=\"5\" cy=\"5\" r=\"5\" class=\"arrowMarkerPath\" style=\"stroke-width: 1; stroke-dasharray: 1, 0;\"/></marker><marker id=\"mermaid-svg_flowchart-v2-circleStart\" class=\"marker flowchart-v2\" viewBox=\"0 0 10 10\" refX=\"-1\" refY=\"5\" markerUnits=\"userSpaceOnUse\" markerWidth=\"11\" markerHeight=\"11\" orient=\"auto\"><circle cx=\"5\" cy=\"5\" r=\"5\" class=\"arrowMarkerPath\" style=\"stroke-width: 1; stroke-dasharray: 1, 0;\"/></marker><marker id=\"mermaid-svg_flowchart-v2-crossEnd\" class=\"marker cross flowchart-v2\" viewBox=\"0 0 11 11\" refX=\"12\" refY=\"5.2\" markerUnits=\"userSpaceOnUse\" markerWidth=\"11\" markerHeight=\"11\" orient=\"auto\"><path d=\"M 1,1 l 9,9 M 10,1 l -9,9\" class=\"arrowMarkerPath\" style=\"stroke-width: 2; stroke-dasharray: 1, 0;\"/></marker><marker id=\"mermaid-svg_flowchart-v2-crossStart\" class=\"marker cross flowchart-v2\" viewBox=\"0 0 11 11\" refX=\"-1\" refY=\"5.2\" markerUnits=\"userSpaceOnUse\" markerWidth=\"11\" markerHeight=\"11\" orient=\"auto\"><path d=\"M 1,1 l 9,9 M 10,1 l -9,9\" class=\"arrowMarkerPath\" style=\"stroke-width: 2; stroke-dasharray: 1, 0;\"/></marker><g class=\"root\"><g class=\"clusters\"><g class=\"cluster \" id=\"FeatureGroup\" data-look=\"classic\"><rect style=\"\" x=\"484.625\" y=\"8\" width=\"458.34375\" height=\"124\"/><g class=\"cluster-label \" transform=\"translate(664.375, 8)\"><foreignObject width=\"98.84375\" height=\"24\"><div xmlns=\"http://www.w3.org/1999/xhtml\" style=\"display: table-cell; white-space: nowrap; line-height: 1.5; max-width: 200px; text-align: center;\"><span class=\"nodeLabel \"><p>FeatureGroup</p></span></div></foreignObject></g></g></g><g class=\"edgePaths\"><path d=\"M148.531,70L157.75,70C166.969,70,185.406,70,203.177,70C220.948,70,238.052,70,246.604,70L255.156,70\" id=\"L_User_Feature_0\" class=\" edge-thickness-normal edge-pattern-solid edge-thickness-normal edge-pattern-solid flowchart-link\" style=\"\" marker-end=\"url(#mermaid-svg_flowchart-v2-pointEnd)\"/><path d=\"M647.953,70L654.655,70C661.357,70,674.76,70,687.497,70C700.234,70,712.305,70,718.34,70L724.375,70\" id=\"L_FeatureSet_CalculateFunction_2\" class=\" edge-thickness-normal edge-pattern-solid edge-thickness-normal edge-pattern-solid flowchart-link\" style=\"\" marker-end=\"url(#mermaid-svg_flowchart-v2-pointEnd)\"/><path d=\"M917.969,70L922.135,70C926.302,70,934.635,70,948.064,70C961.492,70,980.016,70,997.872,70C1015.729,70,1032.919,70,1041.514,70L1050.109,70\" id=\"L_CalculateFunction_Data_3\" class=\" edge-thickness-normal edge-pattern-solid edge-thickness-normal edge-pattern-solid flowchart-link\" style=\"\" marker-end=\"url(#mermaid-svg_flowchart-v2-pointEnd)\"/><path d=\"M374.719,70L383.878,70C393.036,70,411.354,70,429.005,70C446.656,70,463.641,70,472.133,70L480.625,70\" id=\"L_Feature_FeatureGroup_1\" class=\" edge-thickness-normal edge-pattern-solid edge-thickness-normal edge-pattern-solid flowchart-link\" style=\"\" marker-end=\"url(#mermaid-svg_flowchart-v2-pointEnd)\"/></g><g class=\"edgeLabels\"><g class=\"edgeLabel\" transform=\"translate(203.84375, 70)\"><g class=\"label\" transform=\"translate(-30.3125, -12)\"><foreignObject width=\"60.625\" height=\"24\"><div xmlns=\"http://www.w3.org/1999/xhtml\" class=\"labelBkg\" style=\"display: table-cell; white-space: nowrap; line-height: 1.5; max-width: 200px; text-align: center;\"><span class=\"edgeLabel \"><p>requests</p></span></div></foreignObject></g></g><g class=\"edgeLabel\" transform=\"translate(688.1640625, 70)\"><g class=\"label\" transform=\"translate(-15.2109375, -12)\"><foreignObject width=\"30.421875\" height=\"24\"><div xmlns=\"http://www.w3.org/1999/xhtml\" class=\"labelBkg\" style=\"display: table-cell; white-space: nowrap; line-height: 1.5; max-width: 200px; text-align: center;\"><span class=\"edgeLabel \"><p>uses</p></span></div></foreignObject></g></g><g class=\"edgeLabel\" transform=\"translate(998.5390625, 70)\"><g class=\"label\" transform=\"translate(-30.5703125, -12)\"><foreignObject width=\"61.140625\" height=\"24\"><div xmlns=\"http://www.w3.org/1999/xhtml\" class=\"labelBkg\" style=\"display: table-cell; white-space: nowrap; line-height: 1.5; max-width: 200px; text-align: center;\"><span class=\"edgeLabel \"><p>accesses</p></span></div></foreignObject></g></g><g class=\"edgeLabel\" transform=\"translate(429.671875, 70)\"><g class=\"label\" transform=\"translate(-29.953125, -12)\"><foreignObject width=\"59.90625\" height=\"24\"><div xmlns=\"http://www.w3.org/1999/xhtml\" class=\"labelBkg\" style=\"display: table-cell; white-space: nowrap; line-height: 1.5; max-width: 200px; text-align: center;\"><span class=\"edgeLabel \"><p>matches</p></span></div></foreignObject></g></g></g><g class=\"nodes\"><g class=\"node default  \" id=\"flowchart-User-0\" transform=\"translate(78.265625, 70)\"><rect class=\"basic label-container\" style=\"\" x=\"-70.265625\" y=\"-27\" width=\"140.53125\" height=\"54\"/><g class=\"label\" style=\"\" transform=\"translate(-40.265625, -12)\"><rect/><foreignObject width=\"80.53125\" height=\"24\"><div xmlns=\"http://www.w3.org/1999/xhtml\" style=\"display: table-cell; white-space: nowrap; line-height: 1.5; max-width: 200px; text-align: center;\"><span class=\"nodeLabel \"><p>mloda User</p></span></div></foreignObject></g></g><g class=\"node default  \" id=\"flowchart-Feature-1\" transform=\"translate(316.9375, 70)\"><rect class=\"basic label-container\" style=\"\" x=\"-57.78125\" y=\"-27\" width=\"115.5625\" height=\"54\"/><g class=\"label\" style=\"\" transform=\"translate(-27.78125, -12)\"><rect/><foreignObject width=\"55.5625\" height=\"24\"><div xmlns=\"http://www.w3.org/1999/xhtml\" style=\"display: table-cell; white-space: nowrap; line-height: 1.5; max-width: 200px; text-align: center;\"><span class=\"nodeLabel \"><p>Feature</p></span></div></foreignObject></g></g><g class=\"node default  \" id=\"flowchart-FeatureSet-4\" transform=\"translate(578.7890625, 70)\"><rect class=\"basic label-container\" style=\"\" x=\"-69.1640625\" y=\"-27\" width=\"138.328125\" height=\"54\"/><g class=\"label\" style=\"\" transform=\"translate(-39.1640625, -12)\"><rect/><foreignObject width=\"78.328125\" height=\"24\"><div xmlns=\"http://www.w3.org/1999/xhtml\" style=\"display: table-cell; white-space: nowrap; line-height: 1.5; max-width: 200px; text-align: center;\"><span class=\"nodeLabel \"><p>FeatureSet</p></span></div></foreignObject></g></g><g class=\"node default  \" id=\"flowchart-CalculateFunction-5\" transform=\"translate(823.171875, 70)\"><rect class=\"basic label-container\" style=\"\" x=\"-94.796875\" y=\"-27\" width=\"189.59375\" height=\"54\"/><g class=\"label\" style=\"\" transform=\"translate(-64.796875, -12)\"><rect/><foreignObject width=\"129.59375\" height=\"24\"><div xmlns=\"http://www.w3.org/1999/xhtml\" style=\"display: table-cell; white-space: nowrap; line-height: 1.5; max-width: 200px; text-align: center;\"><span class=\"nodeLabel \"><p>CalculateFunction</p></span></div></foreignObject></g></g><g class=\"node default  \" id=\"flowchart-Data-9\" transform=\"translate(1100.59375, 70)\"><rect class=\"basic label-container\" style=\"\" x=\"-46.484375\" y=\"-27\" width=\"92.96875\" height=\"54\"/><g class=\"label\" style=\"\" transform=\"translate(-16.484375, -12)\"><rect/><foreignObject width=\"32.96875\" height=\"24\"><div xmlns=\"http://www.w3.org/1999/xhtml\" style=\"display: table-cell; white-space: nowrap; line-height: 1.5; max-width: 200px; text-align: center;\"><span class=\"nodeLabel \"><p>Data</p></span></div></foreignObject></g></g></g></g></g></svg>"
      ],
      "text/plain": [
       "<mermaid.__main__.Mermaid at 0x7fa25e3b2590>"
      ]
     },
     "metadata": {},
     "output_type": "display_data"
    }
   ],
   "source": [
    "%%mermaidjs\n",
    "graph LR\n",
    "    \n",
    "    User[mloda User] --> | requests | Feature\n",
    "\n",
    "    Feature --> | matches | FeatureGroup\n",
    "\n",
    "    FeatureSet --> | uses | CalculateFunction\n",
    "\n",
    "    subgraph FeatureGroup\n",
    "        FeatureSet\n",
    "        CalculateFunction\n",
    "    end\n",
    "\n",
    "    CalculateFunction --> | accesses | Data "
   ]
  },
  {
   "cell_type": "markdown",
   "metadata": {},
   "source": [
    "## Data\n",
    "\n",
    "In mloda, data is considered an object that describes how to access the data. It could be:\n",
    "\n",
    "- a dataframe (pandas or polars)\n",
    "- an unstructured object (json)\n",
    "- a URL\n",
    "- an object containing a lazy evaluated function\n",
    "\n",
    "As a hard requirement, there must be a way to relate data to a feature. Often, this is done using a name-based approach, other methods could be used as well."
   ]
  },
  {
   "cell_type": "markdown",
   "metadata": {},
   "source": [
    "## Feature\n",
    "\n",
    "A feature is an object that configures the procedural representation of data, but not the process nor data itself. A feature typically includes configuration options:\n",
    "\n",
    "- Name\n",
    "- Options (Configurations)\n",
    "- Domains\n",
    "- Compute Framework\n",
    "- Data Type\n",
    "\n",
    "### How do we relate Data and Feature?\n",
    "\n",
    "We cannot do this directly. We need to relate the Feature with a FeatureGroup first.\n",
    "\n",
    "## Feature Group\n",
    "\n",
    "A FeatureGroup group describe Features, which share data processes and share how the configuration of Features are applied to the data. A FeatureGroup also contains configurations created be the Data Producer if needed e.g. if a FeatureGroup is only valid for a specific technology."
   ]
  },
  {
   "cell_type": "markdown",
   "metadata": {},
   "source": [
    "### Why do we relate a Feature to a FeatureGroup\n",
    "\n",
    "We need to match the Feature with a FeatureGroup, as the FeatureGroup \"knows\" how to use the access description of the data. Additionally, the FeatureGroup \"knows\" which other required input Features the Feature needs. mloda will add these required input Features to be resolved as well.\n",
    "\n",
    "```python\n",
    "# This could be:\n",
    "def input_features(self, options: Options, feature_name: FeatureName) -> Optional[Set[Feature]]:\n",
    "    return {OrderAmount, Datetime, ID}\n",
    "```"
   ]
  },
  {
   "cell_type": "markdown",
   "metadata": {},
   "source": [
    "### How do we relate a Feature to a FeatureGroup\n",
    "\n",
    "To match a Feature with a FeatureGroup, we use the IdentifyFeatureGroupClass functionality of the Engine, which checks the following properties of the FeatureGroup Plugins:\n",
    "\n",
    "- Is _filter_feature_group_by_criteria matching?\n",
    "- Is domain matching?\n",
    "- Is compute framework matching?\n",
    "- Are links matching?\n",
    "- When multiple feature groups match: Are these just feature groups which have inheritance? If so, use the child.\n",
    "\n",
    "As a result, there should be only one feature group that is possible to use."
   ]
  },
  {
   "cell_type": "markdown",
   "metadata": {},
   "source": [
    "### Let us look a bit more into: _filter_feature_group_by_criteria\n",
    "\n",
    "```python\n",
    "@classmethod\n",
    "def match_feature_group_criteria(\n",
    "    feature_name: Union[FeatureName, str],\n",
    "    options: Options,\n",
    "    data_access_collection: Optional[DataAccessCollection] = None\n",
    "    )\n",
    "    ...\n",
    "```\n",
    "\n",
    "Every feature group must implement this function. However, most will inherit the default behaviour from the AbstractFeatureGroup.\n",
    "\n",
    "The default behaviour covers mostly name based approaches to identify a feature (equal or prefix of a feature name).\n",
    "But this can be also a call to a webservice, which knows which data supports or could be any other algorithmic solution.\n",
    "\n",
    "As example could be this sqlite database, where we check the table for metainformation.\n",
    "\n",
    "```python\n",
    "@classmethod\n",
    "def check_feature_in_data_access(cls, feature_name: str, data_access: Any) -> bool:\n",
    "    # get tables in the database\n",
    "    result, _ = cls.read_db(data_access, query=\"SELECT name FROM sqlite_master WHERE type='table';\")\n",
    "    table_names = [table[0] for table in result]\n",
    "\n",
    "    # check if the feature_name is in the tables\n",
    "    for table in table_names:\n",
    "        result, _ = cls.read_db(data_access, query=f\"PRAGMA table_info({table});\")\n",
    "        column_names = [column[1] for column in result]\n",
    "        if feature_name in column_names:\n",
    "            cls.set_table_name(data_access, table)\n",
    "            return True\n",
    "    return False\n",
    "```\n",
    "\n",
    "This means, you are open to customize this logic to match a Feature to a FeatureGroup. But please, do not query the database for every single feature to feature group match lookup. :)\n"
   ]
  },
  {
   "cell_type": "markdown",
   "metadata": {},
   "source": [
    "## What if we have multiple Features sharing the same FeatureGroup?\n",
    "\n",
    "To group features under the same FeatureGroup, we use the FeatureSet object.\n",
    "\n",
    "For features to share a FeatureSet, they must also have the same configuration and compute_framework.\n",
    "If the configurations differ, mloda will automatically create separate FeatureSets.\n",
    "\n",
    "```python\n",
    "def has_similarity_properties(self) -> int:\n",
    "    compute_frameworks_hashable = (\n",
    "        frozenset(self.compute_frameworks) if self.compute_frameworks is not None else None\n",
    "    )\n",
    "    return hash((self.options, compute_frameworks_hashable))\n",
    "```\n",
    "\n",
    "Examples:\n",
    "\n",
    " - Testing migrations: Feature(A, Polars), Feature(B, Pandas)\n",
    " - Sliding time windows: Feature(A, 10 days), Feature(B, 20 days)\n",
    "\n",
    "This means inbetween Data to Feature, we have another abstraction, the FeatureSet."
   ]
  },
  {
   "cell_type": "markdown",
   "metadata": {},
   "source": [
    "## FeatureSet\n",
    "\n",
    "A FeatureSet is a collection of Features, which share the same configuration and the same FeatureGroup. This FeatureSet is used by the FeatureGroup to apply the operations on the data to receive the requested Feature.\n",
    "\n",
    "They are created by mloda. One can access its properties during the calculate_feature function, but are not created by any user.\n",
    "\n",
    "```python\n",
    "@classmethod\n",
    "def calculate_feature(cls, data: Any, features: FeatureSet) -> Any:\n",
    "    ...\n",
    "```\n",
    "\n",
    "In that sense, the FeatureSet has informations of \n",
    "\n",
    "- the Features itself\n",
    "- filters\n",
    "- names\n",
    "- artifacts\n",
    "- and has some convenience functionalities for easier access for the user. \n"
   ]
  },
  {
   "cell_type": "markdown",
   "metadata": {},
   "source": [
    "## Conclusion\n",
    "\n",
    "In this notebook, we explored the key concepts and components in mloda related to data, features, feature sets, and feature groups. We discussed how data is accessed and represented, the definition and role of features, and how features are grouped and managed within feature sets and feature groups. Understanding these components is crucial for building robust and reusable machine learning pipelines. By abstracting and organizing data and features in this manner, mloda ensures consistency, flexibility, and scalability in machine learning workflows."
   ]
  },
  {
   "cell_type": "code",
   "execution_count": 7,
   "metadata": {},
   "outputs": [
    {
     "data": {
      "text/html": [
       "<svg id=\"mermaid-svg\" width=\"100%\" xmlns=\"http://www.w3.org/2000/svg\" class=\"flowchart\" style=\"max-width: 1155.078125px;\" viewBox=\"0 0 1155.078125 140\" role=\"graphics-document document\" aria-roledescription=\"flowchart-v2\" xmlns:xlink=\"http://www.w3.org/1999/xlink\"><style xmlns=\"http://www.w3.org/1999/xhtml\">@import url(\"https://cdnjs.cloudflare.com/ajax/libs/font-awesome/6.7.1/css/all.min.css\");</style><style>#mermaid-svg{font-family:\"trebuchet ms\",verdana,arial,sans-serif;font-size:16px;fill:#333;}#mermaid-svg .error-icon{fill:#552222;}#mermaid-svg .error-text{fill:#552222;stroke:#552222;}#mermaid-svg .edge-thickness-normal{stroke-width:1px;}#mermaid-svg .edge-thickness-thick{stroke-width:3.5px;}#mermaid-svg .edge-pattern-solid{stroke-dasharray:0;}#mermaid-svg .edge-thickness-invisible{stroke-width:0;fill:none;}#mermaid-svg .edge-pattern-dashed{stroke-dasharray:3;}#mermaid-svg .edge-pattern-dotted{stroke-dasharray:2;}#mermaid-svg .marker{fill:#333333;stroke:#333333;}#mermaid-svg .marker.cross{stroke:#333333;}#mermaid-svg svg{font-family:\"trebuchet ms\",verdana,arial,sans-serif;font-size:16px;}#mermaid-svg p{margin:0;}#mermaid-svg .label{font-family:\"trebuchet ms\",verdana,arial,sans-serif;color:#333;}#mermaid-svg .cluster-label text{fill:#333;}#mermaid-svg .cluster-label span{color:#333;}#mermaid-svg .cluster-label span p{background-color:transparent;}#mermaid-svg .label text,#mermaid-svg span{fill:#333;color:#333;}#mermaid-svg .node rect,#mermaid-svg .node circle,#mermaid-svg .node ellipse,#mermaid-svg .node polygon,#mermaid-svg .node path{fill:#ECECFF;stroke:#9370DB;stroke-width:1px;}#mermaid-svg .rough-node .label text,#mermaid-svg .node .label text,#mermaid-svg .image-shape .label,#mermaid-svg .icon-shape .label{text-anchor:middle;}#mermaid-svg .node .katex path{fill:#000;stroke:#000;stroke-width:1px;}#mermaid-svg .rough-node .label,#mermaid-svg .node .label,#mermaid-svg .image-shape .label,#mermaid-svg .icon-shape .label{text-align:center;}#mermaid-svg .node.clickable{cursor:pointer;}#mermaid-svg .root .anchor path{fill:#333333!important;stroke-width:0;stroke:#333333;}#mermaid-svg .arrowheadPath{fill:#333333;}#mermaid-svg .edgePath .path{stroke:#333333;stroke-width:2.0px;}#mermaid-svg .flowchart-link{stroke:#333333;fill:none;}#mermaid-svg .edgeLabel{background-color:rgba(232,232,232, 0.8);text-align:center;}#mermaid-svg .edgeLabel p{background-color:rgba(232,232,232, 0.8);}#mermaid-svg .edgeLabel rect{opacity:0.5;background-color:rgba(232,232,232, 0.8);fill:rgba(232,232,232, 0.8);}#mermaid-svg .labelBkg{background-color:rgba(232, 232, 232, 0.5);}#mermaid-svg .cluster rect{fill:#ffffde;stroke:#aaaa33;stroke-width:1px;}#mermaid-svg .cluster text{fill:#333;}#mermaid-svg .cluster span{color:#333;}#mermaid-svg div.mermaidTooltip{position:absolute;text-align:center;max-width:200px;padding:2px;font-family:\"trebuchet ms\",verdana,arial,sans-serif;font-size:12px;background:hsl(80, 100%, 96.2745098039%);border:1px solid #aaaa33;border-radius:2px;pointer-events:none;z-index:100;}#mermaid-svg .flowchartTitleText{text-anchor:middle;font-size:18px;fill:#333;}#mermaid-svg rect.text{fill:none;stroke-width:0;}#mermaid-svg .icon-shape,#mermaid-svg .image-shape{background-color:rgba(232,232,232, 0.8);text-align:center;}#mermaid-svg .icon-shape p,#mermaid-svg .image-shape p{background-color:rgba(232,232,232, 0.8);padding:2px;}#mermaid-svg .icon-shape rect,#mermaid-svg .image-shape rect{opacity:0.5;background-color:rgba(232,232,232, 0.8);fill:rgba(232,232,232, 0.8);}#mermaid-svg :root{--mermaid-font-family:\"trebuchet ms\",verdana,arial,sans-serif;}</style><g><marker id=\"mermaid-svg_flowchart-v2-pointEnd\" class=\"marker flowchart-v2\" viewBox=\"0 0 10 10\" refX=\"5\" refY=\"5\" markerUnits=\"userSpaceOnUse\" markerWidth=\"8\" markerHeight=\"8\" orient=\"auto\"><path d=\"M 0 0 L 10 5 L 0 10 z\" class=\"arrowMarkerPath\" style=\"stroke-width: 1; stroke-dasharray: 1, 0;\"/></marker><marker id=\"mermaid-svg_flowchart-v2-pointStart\" class=\"marker flowchart-v2\" viewBox=\"0 0 10 10\" refX=\"4.5\" refY=\"5\" markerUnits=\"userSpaceOnUse\" markerWidth=\"8\" markerHeight=\"8\" orient=\"auto\"><path d=\"M 0 5 L 10 10 L 10 0 z\" class=\"arrowMarkerPath\" style=\"stroke-width: 1; stroke-dasharray: 1, 0;\"/></marker><marker id=\"mermaid-svg_flowchart-v2-circleEnd\" class=\"marker flowchart-v2\" viewBox=\"0 0 10 10\" refX=\"11\" refY=\"5\" markerUnits=\"userSpaceOnUse\" markerWidth=\"11\" markerHeight=\"11\" orient=\"auto\"><circle cx=\"5\" cy=\"5\" r=\"5\" class=\"arrowMarkerPath\" style=\"stroke-width: 1; stroke-dasharray: 1, 0;\"/></marker><marker id=\"mermaid-svg_flowchart-v2-circleStart\" class=\"marker flowchart-v2\" viewBox=\"0 0 10 10\" refX=\"-1\" refY=\"5\" markerUnits=\"userSpaceOnUse\" markerWidth=\"11\" markerHeight=\"11\" orient=\"auto\"><circle cx=\"5\" cy=\"5\" r=\"5\" class=\"arrowMarkerPath\" style=\"stroke-width: 1; stroke-dasharray: 1, 0;\"/></marker><marker id=\"mermaid-svg_flowchart-v2-crossEnd\" class=\"marker cross flowchart-v2\" viewBox=\"0 0 11 11\" refX=\"12\" refY=\"5.2\" markerUnits=\"userSpaceOnUse\" markerWidth=\"11\" markerHeight=\"11\" orient=\"auto\"><path d=\"M 1,1 l 9,9 M 10,1 l -9,9\" class=\"arrowMarkerPath\" style=\"stroke-width: 2; stroke-dasharray: 1, 0;\"/></marker><marker id=\"mermaid-svg_flowchart-v2-crossStart\" class=\"marker cross flowchart-v2\" viewBox=\"0 0 11 11\" refX=\"-1\" refY=\"5.2\" markerUnits=\"userSpaceOnUse\" markerWidth=\"11\" markerHeight=\"11\" orient=\"auto\"><path d=\"M 1,1 l 9,9 M 10,1 l -9,9\" class=\"arrowMarkerPath\" style=\"stroke-width: 2; stroke-dasharray: 1, 0;\"/></marker><g class=\"root\"><g class=\"clusters\"><g class=\"cluster \" id=\"FeatureGroup\" data-look=\"classic\"><rect style=\"\" x=\"484.625\" y=\"8\" width=\"458.34375\" height=\"124\"/><g class=\"cluster-label \" transform=\"translate(664.375, 8)\"><foreignObject width=\"98.84375\" height=\"24\"><div xmlns=\"http://www.w3.org/1999/xhtml\" style=\"display: table-cell; white-space: nowrap; line-height: 1.5; max-width: 200px; text-align: center;\"><span class=\"nodeLabel \"><p>FeatureGroup</p></span></div></foreignObject></g></g></g><g class=\"edgePaths\"><path d=\"M148.531,70L157.75,70C166.969,70,185.406,70,203.177,70C220.948,70,238.052,70,246.604,70L255.156,70\" id=\"L_User_Feature_0\" class=\" edge-thickness-normal edge-pattern-solid edge-thickness-normal edge-pattern-solid flowchart-link\" style=\"\" marker-end=\"url(#mermaid-svg_flowchart-v2-pointEnd)\"/><path d=\"M647.953,70L654.655,70C661.357,70,674.76,70,687.497,70C700.234,70,712.305,70,718.34,70L724.375,70\" id=\"L_FeatureSet_CalculateFunction_2\" class=\" edge-thickness-normal edge-pattern-solid edge-thickness-normal edge-pattern-solid flowchart-link\" style=\"\" marker-end=\"url(#mermaid-svg_flowchart-v2-pointEnd)\"/><path d=\"M917.969,70L922.135,70C926.302,70,934.635,70,948.064,70C961.492,70,980.016,70,997.872,70C1015.729,70,1032.919,70,1041.514,70L1050.109,70\" id=\"L_CalculateFunction_Data_3\" class=\" edge-thickness-normal edge-pattern-solid edge-thickness-normal edge-pattern-solid flowchart-link\" style=\"\" marker-end=\"url(#mermaid-svg_flowchart-v2-pointEnd)\"/><path d=\"M374.719,70L383.878,70C393.036,70,411.354,70,429.005,70C446.656,70,463.641,70,472.133,70L480.625,70\" id=\"L_Feature_FeatureGroup_1\" class=\" edge-thickness-normal edge-pattern-solid edge-thickness-normal edge-pattern-solid flowchart-link\" style=\"\" marker-end=\"url(#mermaid-svg_flowchart-v2-pointEnd)\"/></g><g class=\"edgeLabels\"><g class=\"edgeLabel\" transform=\"translate(203.84375, 70)\"><g class=\"label\" transform=\"translate(-30.3125, -12)\"><foreignObject width=\"60.625\" height=\"24\"><div xmlns=\"http://www.w3.org/1999/xhtml\" class=\"labelBkg\" style=\"display: table-cell; white-space: nowrap; line-height: 1.5; max-width: 200px; text-align: center;\"><span class=\"edgeLabel \"><p>requests</p></span></div></foreignObject></g></g><g class=\"edgeLabel\" transform=\"translate(688.1640625, 70)\"><g class=\"label\" transform=\"translate(-15.2109375, -12)\"><foreignObject width=\"30.421875\" height=\"24\"><div xmlns=\"http://www.w3.org/1999/xhtml\" class=\"labelBkg\" style=\"display: table-cell; white-space: nowrap; line-height: 1.5; max-width: 200px; text-align: center;\"><span class=\"edgeLabel \"><p>uses</p></span></div></foreignObject></g></g><g class=\"edgeLabel\" transform=\"translate(998.5390625, 70)\"><g class=\"label\" transform=\"translate(-30.5703125, -12)\"><foreignObject width=\"61.140625\" height=\"24\"><div xmlns=\"http://www.w3.org/1999/xhtml\" class=\"labelBkg\" style=\"display: table-cell; white-space: nowrap; line-height: 1.5; max-width: 200px; text-align: center;\"><span class=\"edgeLabel \"><p>accesses</p></span></div></foreignObject></g></g><g class=\"edgeLabel\" transform=\"translate(429.671875, 70)\"><g class=\"label\" transform=\"translate(-29.953125, -12)\"><foreignObject width=\"59.90625\" height=\"24\"><div xmlns=\"http://www.w3.org/1999/xhtml\" class=\"labelBkg\" style=\"display: table-cell; white-space: nowrap; line-height: 1.5; max-width: 200px; text-align: center;\"><span class=\"edgeLabel \"><p>matches</p></span></div></foreignObject></g></g></g><g class=\"nodes\"><g class=\"node default  \" id=\"flowchart-User-0\" transform=\"translate(78.265625, 70)\"><rect class=\"basic label-container\" style=\"\" x=\"-70.265625\" y=\"-27\" width=\"140.53125\" height=\"54\"/><g class=\"label\" style=\"\" transform=\"translate(-40.265625, -12)\"><rect/><foreignObject width=\"80.53125\" height=\"24\"><div xmlns=\"http://www.w3.org/1999/xhtml\" style=\"display: table-cell; white-space: nowrap; line-height: 1.5; max-width: 200px; text-align: center;\"><span class=\"nodeLabel \"><p>mloda User</p></span></div></foreignObject></g></g><g class=\"node default  \" id=\"flowchart-Feature-1\" transform=\"translate(316.9375, 70)\"><rect class=\"basic label-container\" style=\"\" x=\"-57.78125\" y=\"-27\" width=\"115.5625\" height=\"54\"/><g class=\"label\" style=\"\" transform=\"translate(-27.78125, -12)\"><rect/><foreignObject width=\"55.5625\" height=\"24\"><div xmlns=\"http://www.w3.org/1999/xhtml\" style=\"display: table-cell; white-space: nowrap; line-height: 1.5; max-width: 200px; text-align: center;\"><span class=\"nodeLabel \"><p>Feature</p></span></div></foreignObject></g></g><g class=\"node default  \" id=\"flowchart-FeatureSet-4\" transform=\"translate(578.7890625, 70)\"><rect class=\"basic label-container\" style=\"\" x=\"-69.1640625\" y=\"-27\" width=\"138.328125\" height=\"54\"/><g class=\"label\" style=\"\" transform=\"translate(-39.1640625, -12)\"><rect/><foreignObject width=\"78.328125\" height=\"24\"><div xmlns=\"http://www.w3.org/1999/xhtml\" style=\"display: table-cell; white-space: nowrap; line-height: 1.5; max-width: 200px; text-align: center;\"><span class=\"nodeLabel \"><p>FeatureSet</p></span></div></foreignObject></g></g><g class=\"node default  \" id=\"flowchart-CalculateFunction-5\" transform=\"translate(823.171875, 70)\"><rect class=\"basic label-container\" style=\"\" x=\"-94.796875\" y=\"-27\" width=\"189.59375\" height=\"54\"/><g class=\"label\" style=\"\" transform=\"translate(-64.796875, -12)\"><rect/><foreignObject width=\"129.59375\" height=\"24\"><div xmlns=\"http://www.w3.org/1999/xhtml\" style=\"display: table-cell; white-space: nowrap; line-height: 1.5; max-width: 200px; text-align: center;\"><span class=\"nodeLabel \"><p>CalculateFunction</p></span></div></foreignObject></g></g><g class=\"node default  \" id=\"flowchart-Data-9\" transform=\"translate(1100.59375, 70)\"><rect class=\"basic label-container\" style=\"\" x=\"-46.484375\" y=\"-27\" width=\"92.96875\" height=\"54\"/><g class=\"label\" style=\"\" transform=\"translate(-16.484375, -12)\"><rect/><foreignObject width=\"32.96875\" height=\"24\"><div xmlns=\"http://www.w3.org/1999/xhtml\" style=\"display: table-cell; white-space: nowrap; line-height: 1.5; max-width: 200px; text-align: center;\"><span class=\"nodeLabel \"><p>Data</p></span></div></foreignObject></g></g></g></g></g></svg>"
      ],
      "text/plain": [
       "<mermaid.__main__.Mermaid at 0x7fa25e3b1210>"
      ]
     },
     "metadata": {},
     "output_type": "display_data"
    }
   ],
   "source": [
    "%%mermaidjs\n",
    "graph LR\n",
    "    \n",
    "    User[mloda User] --> | requests | Feature\n",
    "\n",
    "    Feature --> | matches | FeatureGroup\n",
    "\n",
    "    FeatureSet --> | uses | CalculateFunction\n",
    "\n",
    "    subgraph FeatureGroup\n",
    "        FeatureSet\n",
    "        CalculateFunction\n",
    "    end\n",
    "\n",
    "    CalculateFunction --> | accesses | Data "
   ]
  },
  {
   "cell_type": "markdown",
   "metadata": {},
   "source": [
    "In short: we abstracted away processes from data."
   ]
  },
  {
   "cell_type": "code",
   "execution_count": 8,
   "metadata": {},
   "outputs": [
    {
     "data": {
      "text/html": [
       "<svg id=\"mermaid-svg\" width=\"100%\" xmlns=\"http://www.w3.org/2000/svg\" class=\"flowchart\" style=\"max-width: 613.609375px;\" viewBox=\"0 0 613.609375 140\" role=\"graphics-document document\" aria-roledescription=\"flowchart-v2\" xmlns:xlink=\"http://www.w3.org/1999/xlink\"><style xmlns=\"http://www.w3.org/1999/xhtml\">@import url(\"https://cdnjs.cloudflare.com/ajax/libs/font-awesome/6.7.1/css/all.min.css\");</style><style>#mermaid-svg{font-family:\"trebuchet ms\",verdana,arial,sans-serif;font-size:16px;fill:#333;}#mermaid-svg .error-icon{fill:#552222;}#mermaid-svg .error-text{fill:#552222;stroke:#552222;}#mermaid-svg .edge-thickness-normal{stroke-width:1px;}#mermaid-svg .edge-thickness-thick{stroke-width:3.5px;}#mermaid-svg .edge-pattern-solid{stroke-dasharray:0;}#mermaid-svg .edge-thickness-invisible{stroke-width:0;fill:none;}#mermaid-svg .edge-pattern-dashed{stroke-dasharray:3;}#mermaid-svg .edge-pattern-dotted{stroke-dasharray:2;}#mermaid-svg .marker{fill:#333333;stroke:#333333;}#mermaid-svg .marker.cross{stroke:#333333;}#mermaid-svg svg{font-family:\"trebuchet ms\",verdana,arial,sans-serif;font-size:16px;}#mermaid-svg p{margin:0;}#mermaid-svg .label{font-family:\"trebuchet ms\",verdana,arial,sans-serif;color:#333;}#mermaid-svg .cluster-label text{fill:#333;}#mermaid-svg .cluster-label span{color:#333;}#mermaid-svg .cluster-label span p{background-color:transparent;}#mermaid-svg .label text,#mermaid-svg span{fill:#333;color:#333;}#mermaid-svg .node rect,#mermaid-svg .node circle,#mermaid-svg .node ellipse,#mermaid-svg .node polygon,#mermaid-svg .node path{fill:#ECECFF;stroke:#9370DB;stroke-width:1px;}#mermaid-svg .rough-node .label text,#mermaid-svg .node .label text,#mermaid-svg .image-shape .label,#mermaid-svg .icon-shape .label{text-anchor:middle;}#mermaid-svg .node .katex path{fill:#000;stroke:#000;stroke-width:1px;}#mermaid-svg .rough-node .label,#mermaid-svg .node .label,#mermaid-svg .image-shape .label,#mermaid-svg .icon-shape .label{text-align:center;}#mermaid-svg .node.clickable{cursor:pointer;}#mermaid-svg .root .anchor path{fill:#333333!important;stroke-width:0;stroke:#333333;}#mermaid-svg .arrowheadPath{fill:#333333;}#mermaid-svg .edgePath .path{stroke:#333333;stroke-width:2.0px;}#mermaid-svg .flowchart-link{stroke:#333333;fill:none;}#mermaid-svg .edgeLabel{background-color:rgba(232,232,232, 0.8);text-align:center;}#mermaid-svg .edgeLabel p{background-color:rgba(232,232,232, 0.8);}#mermaid-svg .edgeLabel rect{opacity:0.5;background-color:rgba(232,232,232, 0.8);fill:rgba(232,232,232, 0.8);}#mermaid-svg .labelBkg{background-color:rgba(232, 232, 232, 0.5);}#mermaid-svg .cluster rect{fill:#ffffde;stroke:#aaaa33;stroke-width:1px;}#mermaid-svg .cluster text{fill:#333;}#mermaid-svg .cluster span{color:#333;}#mermaid-svg div.mermaidTooltip{position:absolute;text-align:center;max-width:200px;padding:2px;font-family:\"trebuchet ms\",verdana,arial,sans-serif;font-size:12px;background:hsl(80, 100%, 96.2745098039%);border:1px solid #aaaa33;border-radius:2px;pointer-events:none;z-index:100;}#mermaid-svg .flowchartTitleText{text-anchor:middle;font-size:18px;fill:#333;}#mermaid-svg rect.text{fill:none;stroke-width:0;}#mermaid-svg .icon-shape,#mermaid-svg .image-shape{background-color:rgba(232,232,232, 0.8);text-align:center;}#mermaid-svg .icon-shape p,#mermaid-svg .image-shape p{background-color:rgba(232,232,232, 0.8);padding:2px;}#mermaid-svg .icon-shape rect,#mermaid-svg .image-shape rect{opacity:0.5;background-color:rgba(232,232,232, 0.8);fill:rgba(232,232,232, 0.8);}#mermaid-svg :root{--mermaid-font-family:\"trebuchet ms\",verdana,arial,sans-serif;}</style><g><marker id=\"mermaid-svg_flowchart-v2-pointEnd\" class=\"marker flowchart-v2\" viewBox=\"0 0 10 10\" refX=\"5\" refY=\"5\" markerUnits=\"userSpaceOnUse\" markerWidth=\"8\" markerHeight=\"8\" orient=\"auto\"><path d=\"M 0 0 L 10 5 L 0 10 z\" class=\"arrowMarkerPath\" style=\"stroke-width: 1; stroke-dasharray: 1, 0;\"/></marker><marker id=\"mermaid-svg_flowchart-v2-pointStart\" class=\"marker flowchart-v2\" viewBox=\"0 0 10 10\" refX=\"4.5\" refY=\"5\" markerUnits=\"userSpaceOnUse\" markerWidth=\"8\" markerHeight=\"8\" orient=\"auto\"><path d=\"M 0 5 L 10 10 L 10 0 z\" class=\"arrowMarkerPath\" style=\"stroke-width: 1; stroke-dasharray: 1, 0;\"/></marker><marker id=\"mermaid-svg_flowchart-v2-circleEnd\" class=\"marker flowchart-v2\" viewBox=\"0 0 10 10\" refX=\"11\" refY=\"5\" markerUnits=\"userSpaceOnUse\" markerWidth=\"11\" markerHeight=\"11\" orient=\"auto\"><circle cx=\"5\" cy=\"5\" r=\"5\" class=\"arrowMarkerPath\" style=\"stroke-width: 1; stroke-dasharray: 1, 0;\"/></marker><marker id=\"mermaid-svg_flowchart-v2-circleStart\" class=\"marker flowchart-v2\" viewBox=\"0 0 10 10\" refX=\"-1\" refY=\"5\" markerUnits=\"userSpaceOnUse\" markerWidth=\"11\" markerHeight=\"11\" orient=\"auto\"><circle cx=\"5\" cy=\"5\" r=\"5\" class=\"arrowMarkerPath\" style=\"stroke-width: 1; stroke-dasharray: 1, 0;\"/></marker><marker id=\"mermaid-svg_flowchart-v2-crossEnd\" class=\"marker cross flowchart-v2\" viewBox=\"0 0 11 11\" refX=\"12\" refY=\"5.2\" markerUnits=\"userSpaceOnUse\" markerWidth=\"11\" markerHeight=\"11\" orient=\"auto\"><path d=\"M 1,1 l 9,9 M 10,1 l -9,9\" class=\"arrowMarkerPath\" style=\"stroke-width: 2; stroke-dasharray: 1, 0;\"/></marker><marker id=\"mermaid-svg_flowchart-v2-crossStart\" class=\"marker cross flowchart-v2\" viewBox=\"0 0 11 11\" refX=\"-1\" refY=\"5.2\" markerUnits=\"userSpaceOnUse\" markerWidth=\"11\" markerHeight=\"11\" orient=\"auto\"><path d=\"M 1,1 l 9,9 M 10,1 l -9,9\" class=\"arrowMarkerPath\" style=\"stroke-width: 2; stroke-dasharray: 1, 0;\"/></marker><g class=\"root\"><g class=\"clusters\"><g class=\"cluster \" id=\"Process\" data-look=\"classic\"><rect style=\"\" x=\"8\" y=\"8\" width=\"393.5\" height=\"124\"/><g class=\"cluster-label \" transform=\"translate(178.4609375, 8)\"><foreignObject width=\"52.578125\" height=\"24\"><div xmlns=\"http://www.w3.org/1999/xhtml\" style=\"display: table-cell; white-space: nowrap; line-height: 1.5; max-width: 200px; text-align: center;\"><span class=\"nodeLabel \"><p>Process</p></span></div></foreignObject></g></g></g><g class=\"edgePaths\"><path d=\"M136.906,70L141.073,70C145.24,70,153.573,70,161.24,70C168.906,70,175.906,70,179.406,70L182.906,70\" id=\"L_All_CalculateFunction_0\" class=\" edge-thickness-normal edge-pattern-solid edge-thickness-normal edge-pattern-solid flowchart-link\" style=\"\" marker-end=\"url(#mermaid-svg_flowchart-v2-pointEnd)\"/><path d=\"M376.5,70L380.667,70C384.833,70,393.167,70,406.595,70C420.023,70,438.547,70,456.404,70C474.26,70,491.451,70,500.046,70L508.641,70\" id=\"L_CalculateFunction_Data_1\" class=\" edge-thickness-normal edge-pattern-solid edge-thickness-normal edge-pattern-solid flowchart-link\" style=\"\" marker-end=\"url(#mermaid-svg_flowchart-v2-pointEnd)\"/></g><g class=\"edgeLabels\"><g class=\"edgeLabel\"><g class=\"label\" transform=\"translate(0, 0)\"><foreignObject width=\"0\" height=\"0\"><div xmlns=\"http://www.w3.org/1999/xhtml\" class=\"labelBkg\" style=\"display: table-cell; white-space: nowrap; line-height: 1.5; max-width: 200px; text-align: center;\"><span class=\"edgeLabel \"></span></div></foreignObject></g></g><g class=\"edgeLabel\" transform=\"translate(457.0703125, 70)\"><g class=\"label\" transform=\"translate(-30.5703125, -12)\"><foreignObject width=\"61.140625\" height=\"24\"><div xmlns=\"http://www.w3.org/1999/xhtml\" class=\"labelBkg\" style=\"display: table-cell; white-space: nowrap; line-height: 1.5; max-width: 200px; text-align: center;\"><span class=\"edgeLabel \"><p>accesses</p></span></div></foreignObject></g></g></g><g class=\"nodes\"><g class=\"node default  \" id=\"flowchart-All-0\" transform=\"translate(84.953125, 70)\"><rect class=\"basic label-container\" style=\"\" x=\"-51.953125\" y=\"-27\" width=\"103.90625\" height=\"54\"/><g class=\"label\" style=\"\" transform=\"translate(-21.953125, -12)\"><rect/><foreignObject width=\"43.90625\" height=\"24\"><div xmlns=\"http://www.w3.org/1999/xhtml\" style=\"display: table-cell; white-space: nowrap; line-height: 1.5; max-width: 200px; text-align: center;\"><span class=\"nodeLabel \"><p>mloda</p></span></div></foreignObject></g></g><g class=\"node default  \" id=\"flowchart-CalculateFunction-1\" transform=\"translate(281.703125, 70)\"><rect class=\"basic label-container\" style=\"\" x=\"-94.796875\" y=\"-27\" width=\"189.59375\" height=\"54\"/><g class=\"label\" style=\"\" transform=\"translate(-64.796875, -12)\"><rect/><foreignObject width=\"129.59375\" height=\"24\"><div xmlns=\"http://www.w3.org/1999/xhtml\" style=\"display: table-cell; white-space: nowrap; line-height: 1.5; max-width: 200px; text-align: center;\"><span class=\"nodeLabel \"><p>CalculateFunction</p></span></div></foreignObject></g></g><g class=\"node default  \" id=\"flowchart-Data-5\" transform=\"translate(559.125, 70)\"><rect class=\"basic label-container\" style=\"\" x=\"-46.484375\" y=\"-27\" width=\"92.96875\" height=\"54\"/><g class=\"label\" style=\"\" transform=\"translate(-16.484375, -12)\"><rect/><foreignObject width=\"32.96875\" height=\"24\"><div xmlns=\"http://www.w3.org/1999/xhtml\" style=\"display: table-cell; white-space: nowrap; line-height: 1.5; max-width: 200px; text-align: center;\"><span class=\"nodeLabel \"><p>Data</p></span></div></foreignObject></g></g></g></g></g></svg>"
      ],
      "text/plain": [
       "<mermaid.__main__.Mermaid at 0x7fa25e429de0>"
      ]
     },
     "metadata": {},
     "output_type": "display_data"
    }
   ],
   "source": [
    "%%mermaidjs\n",
    "graph LR\n",
    "\n",
    "    All[mloda] --> CalculateFunction\n",
    "    subgraph Process\n",
    "        All\n",
    "        CalculateFunction\n",
    "    end\n",
    "    CalculateFunction --> | accesses | Data "
   ]
  }
 ],
 "metadata": {
  "kernelspec": {
   "display_name": "python310",
   "language": "python",
   "name": "python3"
  },
  "language_info": {
   "codemirror_mode": {
    "name": "ipython",
    "version": 3
   },
   "file_extension": ".py",
   "mimetype": "text/x-python",
   "name": "python",
   "nbconvert_exporter": "python",
   "pygments_lexer": "ipython3",
   "version": "3.10.12"
  }
 },
 "nbformat": 4,
 "nbformat_minor": 2
}
